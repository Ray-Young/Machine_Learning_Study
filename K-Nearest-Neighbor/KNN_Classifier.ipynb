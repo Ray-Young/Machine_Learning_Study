{
 "cells": [
  {
   "cell_type": "code",
   "execution_count": 114,
   "metadata": {
    "collapsed": false
   },
   "outputs": [],
   "source": [
    "from sklearn.neighbors import KNeighborsClassifier\n",
    "from sklearn.neighbors import NearestNeighbors\n",
    "import numpy as np\n",
    "import csv"
   ]
  },
  {
   "cell_type": "code",
   "execution_count": 115,
   "metadata": {
    "collapsed": true
   },
   "outputs": [],
   "source": [
    "file1 = 'lenses.training'\n",
    "file2 = 'lenses.testing'\n",
    "k = 2"
   ]
  },
  {
   "cell_type": "code",
   "execution_count": 116,
   "metadata": {
    "collapsed": false
   },
   "outputs": [],
   "source": [
    "def read_file(file):\n",
    "    X = []\n",
    "    with open(file) as f:\n",
    "        for line in f:\n",
    "            item = line.strip().split(',')\n",
    "            item = [int(i) for i in item]\n",
    "            X.append(item)\n",
    "        return np.asarray(X)"
   ]
  },
  {
   "cell_type": "code",
   "execution_count": 117,
   "metadata": {
    "collapsed": true
   },
   "outputs": [],
   "source": [
    "def group_training_data(X):\n",
    "    y = []\n",
    "    group_size = int(len(X) / 4)\n",
    "    for i in range(0, 4):\n",
    "        if (i == group_size - 1):\n",
    "            while (len(y) != len(X)):\n",
    "                y.append(group_size - 1)\n",
    "        else:\n",
    "            for j in range(0, group_size):\n",
    "                if (len(y) == len(X)):\n",
    "                    break\n",
    "                else:\n",
    "                    y.append(i)\n",
    "    return np.asarray(y)"
   ]
  },
  {
   "cell_type": "code",
   "execution_count": 134,
   "metadata": {
    "collapsed": true
   },
   "outputs": [],
   "source": [
    "def handler(X, y, source):\n",
    "    neigh = KNeighborsClassifier(n_neighbors=k, p=2, metric='minkowski')\n",
    "    nearest_neigh = NearestNeighbors(n_neighbors=1, p=2, metric='minkowski')\n",
    "\n",
    "    neigh.fit(X, y)\n",
    "    nearest_neigh.fit(X)\n",
    "    f = open(file2, 'w')\n",
    "    datawriter = csv.writer(f, delimiter=',')\n",
    "    for i in source:\n",
    "        item = np.asarray(i).reshape(1, -1)\n",
    "        result = []\n",
    "        result.append(nearest_neigh.kneighbors(item, return_distance=False)[0][0])\n",
    "        result = np.append(result, item)\n",
    "        result = np.append(result, neigh.predict(item)[0])\n",
    "        datawriter.writerow(result)\n",
    "        print(result)\n",
    "    f.close()"
   ]
  },
  {
   "cell_type": "code",
   "execution_count": 135,
   "metadata": {
    "collapsed": false
   },
   "outputs": [
    {
     "name": "stdout",
     "output_type": "stream",
     "text": [
      "[0 1 1 2 1 3 0]\n",
      "[5 1 1 2 2 1 1]\n",
      "[6 2 1 2 1 3 1]\n",
      "[3 2 2 1 2 2 0]\n",
      "[6 3 1 1 1 3 1]\n",
      "[7 3 2 1 2 2 1]\n"
     ]
    }
   ],
   "source": [
    "X = read_file(file1)\n",
    "y = group_training_data(X)\n",
    "source = read_file(file2)\n",
    "handler(X, y, source)"
   ]
  },
  {
   "cell_type": "code",
   "execution_count": 125,
   "metadata": {
    "collapsed": false
   },
   "outputs": [
    {
     "name": "stdout",
     "output_type": "stream",
     "text": [
      "<class 'numpy.ndarray'>\n"
     ]
    }
   ],
   "source": [
    "print(type(X))"
   ]
  },
  {
   "cell_type": "code",
   "execution_count": 130,
   "metadata": {
    "collapsed": false
   },
   "outputs": [
    {
     "name": "stdout",
     "output_type": "stream",
     "text": [
      "<class 'int'>\n"
     ]
    }
   ],
   "source": [
    "print(type(int(y[0])))"
   ]
  },
  {
   "cell_type": "code",
   "execution_count": 128,
   "metadata": {
    "collapsed": false
   },
   "outputs": [
    {
     "name": "stdout",
     "output_type": "stream",
     "text": [
      "<class 'int'>\n"
     ]
    }
   ],
   "source": [
    "A = [1, 2]\n",
    "print(type(A[0]))"
   ]
  },
  {
   "cell_type": "code",
   "execution_count": null,
   "metadata": {
    "collapsed": true
   },
   "outputs": [],
   "source": []
  }
 ],
 "metadata": {
  "anaconda-cloud": {},
  "kernelspec": {
   "display_name": "Python [default]",
   "language": "python",
   "name": "python3"
  },
  "language_info": {
   "codemirror_mode": {
    "name": "ipython",
    "version": 3
   },
   "file_extension": ".py",
   "mimetype": "text/x-python",
   "name": "python",
   "nbconvert_exporter": "python",
   "pygments_lexer": "ipython3",
   "version": "3.5.2"
  }
 },
 "nbformat": 4,
 "nbformat_minor": 1
}
