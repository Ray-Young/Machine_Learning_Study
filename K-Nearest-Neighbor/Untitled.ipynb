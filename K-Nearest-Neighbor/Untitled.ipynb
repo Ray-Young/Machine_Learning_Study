{
 "cells": [
  {
   "cell_type": "code",
   "execution_count": 52,
   "metadata": {
    "collapsed": false
   },
   "outputs": [],
   "source": [
    "from sklearn.neighbors import KNeighborsClassifier\n",
    "from sklearn.neighbors import NearestNeighbors\n",
    "import numpy as np"
   ]
  },
  {
   "cell_type": "code",
   "execution_count": 59,
   "metadata": {
    "collapsed": false
   },
   "outputs": [],
   "source": [
    "def read_file(file):\n",
    "    X = []\n",
    "    with open(file) as f:\n",
    "        for line in f:\n",
    "            item = line.strip().split(',')\n",
    "            item = [int(i) for i in item]\n",
    "            X.append(item)\n",
    "        return np.asarray(X)"
   ]
  },
  {
   "cell_type": "code",
   "execution_count": 60,
   "metadata": {
    "collapsed": true
   },
   "outputs": [],
   "source": [
    "def group_training_data(X):\n",
    "    y = []\n",
    "    group_size = int(len(X) / 4)\n",
    "    for i in range(0, 4):\n",
    "        if (i == group_num - 1):\n",
    "            while (len(y) != len(X)):\n",
    "                y.append(group_size - 1)\n",
    "        else:\n",
    "            for j in range(0, group_size):\n",
    "                if (len(y) == len(X)):\n",
    "                    break\n",
    "                else:\n",
    "                    y.append(i)\n",
    "    return np.asarray(y)"
   ]
  },
  {
   "cell_type": "code",
   "execution_count": 61,
   "metadata": {
    "collapsed": false
   },
   "outputs": [],
   "source": [
    "X = read_file('lenses.training')\n",
    "y = group_training_data(X)\n",
    "source = read_file('lenses.testing')"
   ]
  },
  {
   "cell_type": "code",
   "execution_count": 62,
   "metadata": {
    "collapsed": false
   },
   "outputs": [
    {
     "name": "stdout",
     "output_type": "stream",
     "text": [
      "[[1 1 2 1 3]]\n",
      "[[1 1 1 1 3]\n",
      " [1 1 1 2 2]\n",
      " [1 2 1 1 3]\n",
      " [1 2 1 2 2]\n",
      " [1 2 2 1 3]\n",
      " [1 2 2 2 1]\n",
      " [2 1 1 1 3]\n",
      " [2 1 1 2 2]\n",
      " [2 1 2 2 1]\n",
      " [2 2 1 1 3]\n",
      " [2 2 2 1 3]\n",
      " [2 2 2 2 3]\n",
      " [3 1 1 2 3]\n",
      " [3 1 2 1 3]\n",
      " [3 1 2 2 1]\n",
      " [3 2 1 1 3]\n",
      " [3 2 2 1 3]\n",
      " [3 2 2 2 3]]\n"
     ]
    }
   ],
   "source": [
    "print(np.asarray(source[0]).reshape(1, -1))\n",
    "print(X)"
   ]
  },
  {
   "cell_type": "code",
   "execution_count": 66,
   "metadata": {
    "collapsed": false
   },
   "outputs": [
    {
     "name": "stdout",
     "output_type": "stream",
     "text": [
      "[[1 1 2 1 3]]\n",
      "[0]   (array([[ 1.]]), array([[0]]))\n",
      "[[1 1 2 2 1]]\n",
      "[1]   (array([[ 1.]]), array([[5]]))\n",
      "[[2 1 2 1 3]]\n",
      "[1]   (array([[ 1.]]), array([[6]]))\n",
      "[[2 2 1 2 2]]\n",
      "[0]   (array([[ 1.]]), array([[3]]))\n",
      "[[3 1 1 1 3]]\n",
      "[1]   (array([[ 1.]]), array([[6]]))\n",
      "[[3 2 1 2 2]]\n",
      "[1]   (array([[ 1.41421356]]), array([[7]]))\n"
     ]
    }
   ],
   "source": [
    "neigh = KNeighborsClassifier(n_neighbors=2)\n",
    "nearest_neigh = NearestNeighbors(n_neighbors=1)\n",
    "\n",
    "neigh.fit(X, y)\n",
    "nearest_neigh.fit(X)\n",
    "for i in source:\n",
    "    item = np.asarray(i).reshape(1, -1)\n",
    "    print(item)\n",
    "    print(neigh.predict(item), \" \", nearest_neigh.kneighbors(item))"
   ]
  },
  {
   "cell_type": "code",
   "execution_count": null,
   "metadata": {
    "collapsed": true
   },
   "outputs": [],
   "source": []
  }
 ],
 "metadata": {
  "anaconda-cloud": {},
  "kernelspec": {
   "display_name": "Python [default]",
   "language": "python",
   "name": "python3"
  },
  "language_info": {
   "codemirror_mode": {
    "name": "ipython",
    "version": 3
   },
   "file_extension": ".py",
   "mimetype": "text/x-python",
   "name": "python",
   "nbconvert_exporter": "python",
   "pygments_lexer": "ipython3",
   "version": "3.5.2"
  }
 },
 "nbformat": 4,
 "nbformat_minor": 1
}
