{
 "cells": [
  {
   "cell_type": "code",
   "execution_count": 2,
   "metadata": {
    "collapsed": false
   },
   "outputs": [],
   "source": [
    "import scipy.io as sio\n",
    "import numpy as np\n",
    "import pandas as pd\n",
    "import statsmodels.api as sm"
   ]
  },
  {
   "cell_type": "code",
   "execution_count": 3,
   "metadata": {
    "collapsed": true
   },
   "outputs": [],
   "source": [
    "def calculate_euclidean_distance(x):\n",
    "    total = 0\n",
    "    for i in x:\n",
    "        total += abs(i)\n",
    "    return total"
   ]
  },
  {
   "cell_type": "code",
   "execution_count": 4,
   "metadata": {
    "collapsed": false
   },
   "outputs": [],
   "source": [
    "mat_contents = sio.loadmat('detroit.mat')\n",
    "data_set = mat_contents['data']"
   ]
  },
  {
   "cell_type": "code",
   "execution_count": 7,
   "metadata": {
    "collapsed": false
   },
   "outputs": [
    {
     "name": "stdout",
     "output_type": "stream",
     "text": [
      "                            OLS Regression Results                            \n",
      "==============================================================================\n",
      "Dep. Variable:                    HOM   R-squared:                       0.889\n",
      "Model:                            OLS   Adj. R-squared:                  0.856\n",
      "Method:                 Least Squares   F-statistic:                     26.79\n",
      "Date:                Mon, 13 Mar 2017   Prob (F-statistic):           4.28e-05\n",
      "Time:                        19:11:25   Log-Likelihood:                -48.201\n",
      "No. Observations:                  13   AIC:                             102.4\n",
      "Df Residuals:                      10   BIC:                             104.1\n",
      "Df Model:                           3                                         \n",
      "Covariance Type:            nonrobust                                         \n",
      "==============================================================================\n",
      "                 coef    std err          t      P>|t|      [95.0% Conf. Int.]\n",
      "------------------------------------------------------------------------------\n",
      "FTP           -0.1135      0.107     -1.057      0.315        -0.353     0.126\n",
      "WE             0.3526      0.166      2.130      0.059        -0.016     0.721\n",
      "UEMP           0.1335      1.529      0.087      0.932        -3.273     3.540\n",
      "==============================================================================\n",
      "Omnibus:                        3.594   Durbin-Watson:                   0.513\n",
      "Prob(Omnibus):                  0.166   Jarque-Bera (JB):                1.231\n",
      "Skew:                           0.219   Prob(JB):                        0.540\n",
      "Kurtosis:                       1.558   Cond. No.                         174.\n",
      "==============================================================================\n",
      "\n",
      "Warnings:\n",
      "[1] Standard Errors assume that the covariance matrix of the errors is correctly specified.\n"
     ]
    },
    {
     "name": "stderr",
     "output_type": "stream",
     "text": [
      "/Users/lei/anaconda/lib/python3.5/site-packages/scipy/stats/stats.py:1327: UserWarning: kurtosistest only valid for n>=20 ... continuing anyway, n=13\n",
      "  \"anyway, n=%i\" % int(n))\n"
     ]
    }
   ],
   "source": [
    "attribute_x = data_set[:, [0, 8, 1]]\n",
    "df_attribute_x = pd.DataFrame(attribute_x, columns = ['FTP', 'WE', 'UEMP'])\n",
    "attribute_y = data_set[:, 9]\n",
    "df_attribute_y = pd.DataFrame(attribute_y, columns = ['HOM'])\n",
    "model = sm.OLS(df_attribute_y, df_attribute_x)\n",
    "results = model.fit()\n",
    "print(results.summary())"
   ]
  },
  {
   "cell_type": "code",
   "execution_count": 8,
   "metadata": {
    "collapsed": false
   },
   "outputs": [
    {
     "name": "stdout",
     "output_type": "stream",
     "text": [
      "UEMP as third variable\n",
      "R-Squared: 0.889\n",
      "Euclidean distance 117.418871\n"
     ]
    }
   ],
   "source": [
    "formula = [[-0.1135], [0.3526], [0.1335]]\n",
    "expect_set = np.dot(attribute_x, formula)\n",
    "expect_set = expect_set.ravel()\n",
    "x = np.subtract(expect_set, attribute_y)\n",
    "print(\"UEMP as third variable\")\n",
    "print(\"R-Squared: 0.889\")\n",
    "print(\"Euclidean distance\", calculate_euclidean_distance(x))"
   ]
  },
  {
   "cell_type": "code",
   "execution_count": 9,
   "metadata": {
    "collapsed": false
   },
   "outputs": [
    {
     "name": "stdout",
     "output_type": "stream",
     "text": [
      "                            OLS Regression Results                            \n",
      "==============================================================================\n",
      "Dep. Variable:                    HOM   R-squared:                       0.927\n",
      "Model:                            OLS   Adj. R-squared:                  0.905\n",
      "Method:                 Least Squares   F-statistic:                     42.05\n",
      "Date:                Mon, 13 Mar 2017   Prob (F-statistic):           5.61e-06\n",
      "Time:                        19:11:29   Log-Likelihood:                -45.538\n",
      "No. Observations:                  13   AIC:                             97.08\n",
      "Df Residuals:                      10   BIC:                             98.77\n",
      "Df Model:                           3                                         \n",
      "Covariance Type:            nonrobust                                         \n",
      "==============================================================================\n",
      "                 coef    std err          t      P>|t|      [95.0% Conf. Int.]\n",
      "------------------------------------------------------------------------------\n",
      "FTP            0.0989      0.117      0.848      0.416        -0.161     0.359\n",
      "WE             0.2396      0.135      1.772      0.107        -0.062     0.541\n",
      "MAN           -0.0813      0.036     -2.253      0.048        -0.162    -0.001\n",
      "==============================================================================\n",
      "Omnibus:                        0.479   Durbin-Watson:                   0.413\n",
      "Prob(Omnibus):                  0.787   Jarque-Bera (JB):                0.550\n",
      "Skew:                           0.245   Prob(JB):                        0.760\n",
      "Kurtosis:                       2.120   Cond. No.                         45.0\n",
      "==============================================================================\n",
      "\n",
      "Warnings:\n",
      "[1] Standard Errors assume that the covariance matrix of the errors is correctly specified.\n"
     ]
    },
    {
     "name": "stderr",
     "output_type": "stream",
     "text": [
      "/Users/lei/anaconda/lib/python3.5/site-packages/scipy/stats/stats.py:1327: UserWarning: kurtosistest only valid for n>=20 ... continuing anyway, n=13\n",
      "  \"anyway, n=%i\" % int(n))\n"
     ]
    }
   ],
   "source": [
    "attribute_x = data_set[:, [0, 8, 2]]\n",
    "df_attribute_x = pd.DataFrame(attribute_x, columns = ['FTP', 'WE', 'MAN'])\n",
    "attribute_y = data_set[:, 9]\n",
    "df_attribute_y = pd.DataFrame(attribute_y, columns = ['HOM'])\n",
    "model = sm.OLS(df_attribute_y, df_attribute_x)\n",
    "results = model.fit()\n",
    "print(results.summary())"
   ]
  },
  {
   "cell_type": "code",
   "execution_count": 10,
   "metadata": {
    "collapsed": false
   },
   "outputs": [
    {
     "name": "stdout",
     "output_type": "stream",
     "text": [
      "MAN as third variable\n",
      "R-Squared: 0.927\n",
      "Euclidean distance 88.489005\n"
     ]
    }
   ],
   "source": [
    "formula = [[0.0989], [0.2396], [-0.0813]]\n",
    "expect_set = np.dot(attribute_x, formula)\n",
    "expect_set = expect_set.ravel()\n",
    "x = np.subtract(expect_set, attribute_y)\n",
    "print(\"MAN as third variable\")\n",
    "print(\"R-Squared: 0.927\")\n",
    "print(\"Euclidean distance\", calculate_euclidean_distance(x))"
   ]
  },
  {
   "cell_type": "code",
   "execution_count": 11,
   "metadata": {
    "collapsed": false
   },
   "outputs": [
    {
     "name": "stdout",
     "output_type": "stream",
     "text": [
      "                            OLS Regression Results                            \n",
      "==============================================================================\n",
      "Dep. Variable:                    HOM   R-squared:                       0.959\n",
      "Model:                            OLS   Adj. R-squared:                  0.947\n",
      "Method:                 Least Squares   F-statistic:                     77.84\n",
      "Date:                Mon, 13 Mar 2017   Prob (F-statistic):           3.11e-07\n",
      "Time:                        19:11:30   Log-Likelihood:                -41.758\n",
      "No. Observations:                  13   AIC:                             89.52\n",
      "Df Residuals:                      10   BIC:                             91.21\n",
      "Df Model:                           3                                         \n",
      "Covariance Type:            nonrobust                                         \n",
      "==============================================================================\n",
      "                 coef    std err          t      P>|t|      [95.0% Conf. Int.]\n",
      "------------------------------------------------------------------------------\n",
      "FTP           -0.1824      0.057     -3.220      0.009        -0.309    -0.056\n",
      "WE             0.3846      0.095      4.049      0.002         0.173     0.596\n",
      "LIC            0.0295      0.007      4.119      0.002         0.014     0.045\n",
      "==============================================================================\n",
      "Omnibus:                        3.145   Durbin-Watson:                   0.511\n",
      "Prob(Omnibus):                  0.208   Jarque-Bera (JB):                1.102\n",
      "Skew:                          -0.090   Prob(JB):                        0.576\n",
      "Kurtosis:                       1.585   Cond. No.                         40.4\n",
      "==============================================================================\n",
      "\n",
      "Warnings:\n",
      "[1] Standard Errors assume that the covariance matrix of the errors is correctly specified.\n"
     ]
    },
    {
     "name": "stderr",
     "output_type": "stream",
     "text": [
      "/Users/lei/anaconda/lib/python3.5/site-packages/scipy/stats/stats.py:1327: UserWarning: kurtosistest only valid for n>=20 ... continuing anyway, n=13\n",
      "  \"anyway, n=%i\" % int(n))\n"
     ]
    }
   ],
   "source": [
    "attribute_x = data_set[:, [0, 8, 3]]\n",
    "df_attribute_x = pd.DataFrame(attribute_x, columns = ['FTP', 'WE', 'LIC'])\n",
    "attribute_y = data_set[:, 9]\n",
    "df_attribute_y = pd.DataFrame(attribute_y, columns = ['HOM'])\n",
    "model = sm.OLS(df_attribute_y, df_attribute_x)\n",
    "results = model.fit()\n",
    "print(results.summary())"
   ]
  },
  {
   "cell_type": "code",
   "execution_count": 12,
   "metadata": {
    "collapsed": false
   },
   "outputs": [
    {
     "name": "stdout",
     "output_type": "stream",
     "text": [
      "LIC as third variable\n",
      "R-Squared: 0.959\n",
      "Euclidean distance 70.634509\n"
     ]
    }
   ],
   "source": [
    "formula = [[-0.1824], [0.3846], [0.0295]]\n",
    "expect_set = np.dot(attribute_x, formula)\n",
    "expect_set = expect_set.ravel()\n",
    "x = np.subtract(expect_set, attribute_y)\n",
    "print(\"LIC as third variable\")\n",
    "print(\"R-Squared: 0.959\")\n",
    "print(\"Euclidean distance\", calculate_euclidean_distance(x))"
   ]
  },
  {
   "cell_type": "code",
   "execution_count": 13,
   "metadata": {
    "collapsed": false
   },
   "outputs": [
    {
     "name": "stdout",
     "output_type": "stream",
     "text": [
      "                            OLS Regression Results                            \n",
      "==============================================================================\n",
      "Dep. Variable:                    HOM   R-squared:                       0.960\n",
      "Model:                            OLS   Adj. R-squared:                  0.947\n",
      "Method:                 Least Squares   F-statistic:                     79.09\n",
      "Date:                Mon, 13 Mar 2017   Prob (F-statistic):           2.88e-07\n",
      "Time:                        19:11:32   Log-Likelihood:                -41.658\n",
      "No. Observations:                  13   AIC:                             89.32\n",
      "Df Residuals:                      10   BIC:                             91.01\n",
      "Df Model:                           3                                         \n",
      "Covariance Type:            nonrobust                                         \n",
      "==============================================================================\n",
      "                 coef    std err          t      P>|t|      [95.0% Conf. Int.]\n",
      "------------------------------------------------------------------------------\n",
      "FTP           -0.1463      0.054     -2.705      0.022        -0.267    -0.026\n",
      "WE             0.3107      0.094      3.296      0.008         0.101     0.521\n",
      "GR             0.0318      0.008      4.169      0.002         0.015     0.049\n",
      "==============================================================================\n",
      "Omnibus:                        2.101   Durbin-Watson:                   1.205\n",
      "Prob(Omnibus):                  0.350   Jarque-Bera (JB):                1.364\n",
      "Skew:                           0.570   Prob(JB):                        0.506\n",
      "Kurtosis:                       1.895   Cond. No.                         40.3\n",
      "==============================================================================\n",
      "\n",
      "Warnings:\n",
      "[1] Standard Errors assume that the covariance matrix of the errors is correctly specified.\n"
     ]
    },
    {
     "name": "stderr",
     "output_type": "stream",
     "text": [
      "/Users/lei/anaconda/lib/python3.5/site-packages/scipy/stats/stats.py:1327: UserWarning: kurtosistest only valid for n>=20 ... continuing anyway, n=13\n",
      "  \"anyway, n=%i\" % int(n))\n"
     ]
    }
   ],
   "source": [
    "attribute_x = data_set[:, [0, 8, 4]]\n",
    "df_attribute_x = pd.DataFrame(attribute_x, columns = ['FTP', 'WE', 'GR'])\n",
    "attribute_y = data_set[:, 9]\n",
    "df_attribute_y = pd.DataFrame(attribute_y, columns = ['HOM'])\n",
    "model = sm.OLS(df_attribute_y, df_attribute_x)\n",
    "results = model.fit()\n",
    "print(results.summary())"
   ]
  },
  {
   "cell_type": "code",
   "execution_count": 14,
   "metadata": {
    "collapsed": false
   },
   "outputs": [
    {
     "name": "stdout",
     "output_type": "stream",
     "text": [
      "GR as third variable\n",
      "R-Squared: 0.960\n",
      "Euclidean distance 68.616999\n"
     ]
    }
   ],
   "source": [
    "formula = [[-0.1463], [0.3107], [0.0318]]\n",
    "expect_set = np.dot(attribute_x, formula)\n",
    "expect_set = expect_set.ravel()\n",
    "x = np.subtract(expect_set, attribute_y)\n",
    "print(\"GR as third variable\")\n",
    "print(\"R-Squared: 0.960\")\n",
    "print(\"Euclidean distance\", calculate_euclidean_distance(x))"
   ]
  },
  {
   "cell_type": "code",
   "execution_count": 22,
   "metadata": {
    "collapsed": false
   },
   "outputs": [
    {
     "name": "stdout",
     "output_type": "stream",
     "text": [
      "                            OLS Regression Results                            \n",
      "==============================================================================\n",
      "Dep. Variable:                    HOM   R-squared:                       0.890\n",
      "Model:                            OLS   Adj. R-squared:                  0.857\n",
      "Method:                 Least Squares   F-statistic:                     26.96\n",
      "Date:                Mon, 13 Mar 2017   Prob (F-statistic):           4.16e-05\n",
      "Time:                        19:25:22   Log-Likelihood:                -48.164\n",
      "No. Observations:                  13   AIC:                             102.3\n",
      "Df Residuals:                      10   BIC:                             104.0\n",
      "Df Model:                           3                                         \n",
      "Covariance Type:            nonrobust                                         \n",
      "==============================================================================\n",
      "                 coef    std err          t      P>|t|      [95.0% Conf. Int.]\n",
      "------------------------------------------------------------------------------\n",
      "FTP           -0.0694      0.177     -0.392      0.704        -0.464     0.325\n",
      "WE             0.3443      0.155      2.217      0.051        -0.002     0.690\n",
      "NMAN          -0.0168      0.066     -0.252      0.806        -0.165     0.131\n",
      "==============================================================================\n",
      "Omnibus:                        3.178   Durbin-Watson:                   0.497\n",
      "Prob(Omnibus):                  0.204   Jarque-Bera (JB):                1.167\n",
      "Skew:                           0.212   Prob(JB):                        0.558\n",
      "Kurtosis:                       1.595   Cond. No.                         52.5\n",
      "==============================================================================\n",
      "\n",
      "Warnings:\n",
      "[1] Standard Errors assume that the covariance matrix of the errors is correctly specified.\n"
     ]
    },
    {
     "name": "stderr",
     "output_type": "stream",
     "text": [
      "/Users/lei/anaconda/lib/python3.5/site-packages/scipy/stats/stats.py:1327: UserWarning: kurtosistest only valid for n>=20 ... continuing anyway, n=13\n",
      "  \"anyway, n=%i\" % int(n))\n"
     ]
    }
   ],
   "source": [
    "attribute_x = data_set[:, [0, 8, 5]]\n",
    "df_attribute_x = pd.DataFrame(attribute_x, columns = ['FTP', 'WE', 'NMAN'])\n",
    "attribute_y = data_set[:, 9]\n",
    "df_attribute_y = pd.DataFrame(attribute_y, columns = ['HOM'])\n",
    "model = sm.OLS(df_attribute_y, df_attribute_x)\n",
    "results = model.fit()\n",
    "print(results.summary())"
   ]
  },
  {
   "cell_type": "code",
   "execution_count": 23,
   "metadata": {
    "collapsed": false
   },
   "outputs": [
    {
     "name": "stdout",
     "output_type": "stream",
     "text": [
      "NMAN as third variable\n",
      "R-Squared: 0.890\n",
      "Euclidean distance 115.494686\n"
     ]
    }
   ],
   "source": [
    "formula = [[-0.0694], [0.3443], [-0.0168]]\n",
    "expect_set = np.dot(attribute_x, formula)\n",
    "expect_set = expect_set.ravel()\n",
    "x = np.subtract(expect_set, attribute_y)\n",
    "print(\"NMAN as third variable\")\n",
    "print(\"R-Squared: 0.890\")\n",
    "print(\"Euclidean distance\", calculate_euclidean_distance(x))"
   ]
  },
  {
   "cell_type": "code",
   "execution_count": 29,
   "metadata": {
    "collapsed": false
   },
   "outputs": [
    {
     "name": "stdout",
     "output_type": "stream",
     "text": [
      "                            OLS Regression Results                            \n",
      "==============================================================================\n",
      "Dep. Variable:                    HOM   R-squared:                       0.915\n",
      "Model:                            OLS   Adj. R-squared:                  0.889\n",
      "Method:                 Least Squares   F-statistic:                     35.82\n",
      "Date:                Mon, 13 Mar 2017   Prob (F-statistic):           1.17e-05\n",
      "Time:                        19:27:36   Log-Likelihood:                -46.496\n",
      "No. Observations:                  13   AIC:                             98.99\n",
      "Df Residuals:                      10   BIC:                             100.7\n",
      "Df Model:                           3                                         \n",
      "Covariance Type:            nonrobust                                         \n",
      "==============================================================================\n",
      "                 coef    std err          t      P>|t|      [95.0% Conf. Int.]\n",
      "------------------------------------------------------------------------------\n",
      "FTP           -0.2515      0.113     -2.222      0.051        -0.504     0.001\n",
      "WE             0.2994      0.139      2.155      0.057        -0.010     0.609\n",
      "GOV            0.2788      0.161      1.734      0.114        -0.079     0.637\n",
      "==============================================================================\n",
      "Omnibus:                        1.874   Durbin-Watson:                   0.640\n",
      "Prob(Omnibus):                  0.392   Jarque-Bera (JB):                1.014\n",
      "Skew:                          -0.311   Prob(JB):                        0.602\n",
      "Kurtosis:                       1.781   Cond. No.                         27.1\n",
      "==============================================================================\n",
      "\n",
      "Warnings:\n",
      "[1] Standard Errors assume that the covariance matrix of the errors is correctly specified.\n"
     ]
    },
    {
     "name": "stderr",
     "output_type": "stream",
     "text": [
      "/Users/lei/anaconda/lib/python3.5/site-packages/scipy/stats/stats.py:1327: UserWarning: kurtosistest only valid for n>=20 ... continuing anyway, n=13\n",
      "  \"anyway, n=%i\" % int(n))\n"
     ]
    }
   ],
   "source": [
    "attribute_x = data_set[:, [0, 8, 6]]\n",
    "df_attribute_x = pd.DataFrame(attribute_x, columns = ['FTP', 'WE', 'GOV'])\n",
    "attribute_y = data_set[:, 9]\n",
    "df_attribute_y = pd.DataFrame(attribute_y, columns = ['HOM'])\n",
    "model = sm.OLS(df_attribute_y, df_attribute_x)\n",
    "results = model.fit()\n",
    "print(results.summary())"
   ]
  },
  {
   "cell_type": "code",
   "execution_count": 30,
   "metadata": {
    "collapsed": false
   },
   "outputs": [
    {
     "name": "stdout",
     "output_type": "stream",
     "text": [
      "GOV as third variable\n",
      "R-Squared: 0.915\n",
      "Euclidean distance 96.951877\n"
     ]
    }
   ],
   "source": [
    "formula = [[-0.2515], [0.2994], [0.2788]]\n",
    "expect_set = np.dot(attribute_x, formula)\n",
    "expect_set = expect_set.ravel()\n",
    "x = np.subtract(expect_set, attribute_y)\n",
    "print(\"GOV as third variable\")\n",
    "print(\"R-Squared: 0.915\")\n",
    "print(\"Euclidean distance\", calculate_euclidean_distance(x))"
   ]
  },
  {
   "cell_type": "code",
   "execution_count": 31,
   "metadata": {
    "collapsed": false
   },
   "outputs": [
    {
     "name": "stdout",
     "output_type": "stream",
     "text": [
      "                            OLS Regression Results                            \n",
      "==============================================================================\n",
      "Dep. Variable:                    HOM   R-squared:                       0.904\n",
      "Model:                            OLS   Adj. R-squared:                  0.875\n",
      "Method:                 Least Squares   F-statistic:                     31.24\n",
      "Date:                Mon, 13 Mar 2017   Prob (F-statistic):           2.16e-05\n",
      "Time:                        19:27:50   Log-Likelihood:                -47.306\n",
      "No. Observations:                  13   AIC:                             100.6\n",
      "Df Residuals:                      10   BIC:                             102.3\n",
      "Df Model:                           3                                         \n",
      "Covariance Type:            nonrobust                                         \n",
      "==============================================================================\n",
      "                 coef    std err          t      P>|t|      [95.0% Conf. Int.]\n",
      "------------------------------------------------------------------------------\n",
      "FTP           -0.1489      0.089     -1.677      0.125        -0.347     0.049\n",
      "WE            -0.0876      0.386     -0.227      0.825        -0.947     0.771\n",
      "HE            21.8559     17.943      1.218      0.251       -18.124    61.835\n",
      "==============================================================================\n",
      "Omnibus:                        1.976   Durbin-Watson:                   1.014\n",
      "Prob(Omnibus):                  0.372   Jarque-Bera (JB):                1.269\n",
      "Skew:                           0.737   Prob(JB):                        0.530\n",
      "Kurtosis:                       2.589   Cond. No.                     2.18e+03\n",
      "==============================================================================\n",
      "\n",
      "Warnings:\n",
      "[1] Standard Errors assume that the covariance matrix of the errors is correctly specified.\n",
      "[2] The condition number is large, 2.18e+03. This might indicate that there are\n",
      "strong multicollinearity or other numerical problems.\n"
     ]
    },
    {
     "name": "stderr",
     "output_type": "stream",
     "text": [
      "/Users/lei/anaconda/lib/python3.5/site-packages/scipy/stats/stats.py:1327: UserWarning: kurtosistest only valid for n>=20 ... continuing anyway, n=13\n",
      "  \"anyway, n=%i\" % int(n))\n"
     ]
    }
   ],
   "source": [
    "attribute_x = data_set[:, [0, 8, 7]]\n",
    "df_attribute_x = pd.DataFrame(attribute_x, columns = ['FTP', 'WE', 'HE'])\n",
    "attribute_y = data_set[:, 9]\n",
    "df_attribute_y = pd.DataFrame(attribute_y, columns = ['HOM'])\n",
    "model = sm.OLS(df_attribute_y, df_attribute_x)\n",
    "results = model.fit()\n",
    "print(results.summary())"
   ]
  },
  {
   "cell_type": "code",
   "execution_count": 33,
   "metadata": {
    "collapsed": false
   },
   "outputs": [
    {
     "name": "stdout",
     "output_type": "stream",
     "text": [
      "HE as third variable\n",
      "R-Squared: 0.904\n",
      "Euclidean distance 107.174735\n"
     ]
    }
   ],
   "source": [
    "formula = [[-0.1489], [-0.0876], [21.8559]]\n",
    "expect_set = np.dot(attribute_x, formula)\n",
    "expect_set = expect_set.ravel()\n",
    "x = np.subtract(expect_set, attribute_y)\n",
    "print(\"HE as third variable\")\n",
    "print(\"R-Squared: 0.904\")\n",
    "print(\"Euclidean distance\", calculate_euclidean_distance(x))"
   ]
  },
  {
   "cell_type": "code",
   "execution_count": null,
   "metadata": {
    "collapsed": true
   },
   "outputs": [],
   "source": []
  }
 ],
 "metadata": {
  "anaconda-cloud": {},
  "kernelspec": {
   "display_name": "Python [conda root]",
   "language": "python",
   "name": "conda-root-py"
  },
  "language_info": {
   "codemirror_mode": {
    "name": "ipython",
    "version": 3
   },
   "file_extension": ".py",
   "mimetype": "text/x-python",
   "name": "python",
   "nbconvert_exporter": "python",
   "pygments_lexer": "ipython3",
   "version": "3.5.2"
  }
 },
 "nbformat": 4,
 "nbformat_minor": 1
}
