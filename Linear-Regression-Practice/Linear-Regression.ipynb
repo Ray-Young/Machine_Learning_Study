{
 "cells": [
  {
   "cell_type": "code",
   "execution_count": 43,
   "metadata": {
    "collapsed": false
   },
   "outputs": [],
   "source": [
    "import scipy.io as sio\n",
    "import numpy as np\n",
    "import pandas as pd\n",
    "import statsmodels.api as sm"
   ]
  },
  {
   "cell_type": "code",
   "execution_count": 52,
   "metadata": {
    "collapsed": false
   },
   "outputs": [],
   "source": [
    "mat_contents = sio.loadmat('detroit.mat')\n",
    "data_set = mat_contents['data']"
   ]
  },
  {
   "cell_type": "code",
   "execution_count": 53,
   "metadata": {
    "collapsed": false
   },
   "outputs": [
    {
     "name": "stdout",
     "output_type": "stream",
     "text": [
      "       FTP  UEMP    MAN      LIC       GR   NMAN    GOV    HE      WE\n",
      "0   260.35  11.0  455.5   178.15   215.98  538.1  133.9  2.98  117.18\n",
      "1   269.80   7.0  480.2   156.41   180.48  547.6  137.6  3.09  134.02\n",
      "2   272.04   5.2  506.1   198.02   209.57  562.8  143.6  3.23  141.68\n",
      "3   272.96   4.3  535.8   222.10   231.67  591.0  150.3  3.33  147.98\n",
      "4   272.51   3.5  576.0   301.92   297.65  626.1  164.3  3.46  159.85\n",
      "5   261.34   3.2  601.7   391.22   367.62  659.8  179.5  3.60  157.19\n",
      "6   268.89   4.1  577.3   665.56   616.54  686.2  187.5  3.73  155.29\n",
      "7   295.99   3.9  596.9  1131.21  1029.75  699.6  195.4  2.91  131.75\n",
      "8   319.87   3.6  613.5   837.60   786.23  729.9  210.3  4.25  178.74\n",
      "9   341.43   7.1  569.3   794.90   713.77  757.8  223.8  4.47  178.30\n",
      "10  356.59   8.4  548.8   817.74   750.43  755.3  227.7  5.04  209.54\n",
      "11  376.69   7.7  563.4   583.17  1027.38  787.0  230.9  5.47  240.05\n",
      "12  390.19   6.3  609.3   709.59   666.50  819.8  230.2  5.76  258.05\n"
     ]
    }
   ],
   "source": [
    "attribute_x = data_set[:, [0, 1, 2, 3, 4, 5, 6, 7, 8]]\n",
    "df_attribute_x = pd.DataFrame(attribute_x, columns = ['FTP', 'UEMP', 'MAN', 'LIC', 'GR', 'NMAN', 'GOV', 'HE', 'WE'])\n",
    "print(df_attribute_x)"
   ]
  },
  {
   "cell_type": "code",
   "execution_count": 54,
   "metadata": {
    "collapsed": false
   },
   "outputs": [
    {
     "name": "stdout",
     "output_type": "stream",
     "text": [
      "      HOM\n",
      "0    8.60\n",
      "1    8.90\n",
      "2    8.52\n",
      "3    8.89\n",
      "4   13.07\n",
      "5   14.57\n",
      "6   21.36\n",
      "7   28.03\n",
      "8   31.49\n",
      "9   37.39\n",
      "10  46.26\n",
      "11  47.24\n",
      "12  52.33\n"
     ]
    }
   ],
   "source": [
    "attribute_y = data_set[:, 9]\n",
    "df_attribute_y = pd.DataFrame(attribute_y, columns = ['HOM'])\n",
    "print(df_attribute_y)"
   ]
  },
  {
   "cell_type": "code",
   "execution_count": 55,
   "metadata": {
    "collapsed": true
   },
   "outputs": [],
   "source": [
    "model = sm.OLS(df_attribute_y, df_attribute_x)"
   ]
  },
  {
   "cell_type": "code",
   "execution_count": 56,
   "metadata": {
    "collapsed": false
   },
   "outputs": [
    {
     "name": "stdout",
     "output_type": "stream",
     "text": [
      "                            OLS Regression Results                            \n",
      "==============================================================================\n",
      "Dep. Variable:                    HOM   R-squared:                       0.999\n",
      "Model:                            OLS   Adj. R-squared:                  0.998\n",
      "Method:                 Least Squares   F-statistic:                     606.7\n",
      "Date:                Tue, 28 Feb 2017   Prob (F-statistic):           6.62e-06\n",
      "Time:                        14:46:10   Log-Likelihood:                -15.582\n",
      "No. Observations:                  13   AIC:                             49.16\n",
      "Df Residuals:                       4   BIC:                             54.25\n",
      "Df Model:                           9                                         \n",
      "Covariance Type:            nonrobust                                         \n",
      "==============================================================================\n",
      "                 coef    std err          t      P>|t|      [95.0% Conf. Int.]\n",
      "------------------------------------------------------------------------------\n",
      "FTP           -0.0271      0.039     -0.701      0.522        -0.134     0.080\n",
      "UEMP           0.4715      0.493      0.957      0.393        -0.897     1.840\n",
      "MAN           -0.1023      0.038     -2.715      0.053        -0.207     0.002\n",
      "LIC            0.0262      0.005      5.024      0.007         0.012     0.041\n",
      "GR            -0.0046      0.005     -0.962      0.390        -0.018     0.009\n",
      "NMAN           0.0108      0.063      0.172      0.872        -0.163     0.185\n",
      "GOV            0.1681      0.125      1.346      0.250        -0.179     0.515\n",
      "HE            -5.9862      5.824     -1.028      0.362       -22.155    10.183\n",
      "WE             0.3598      0.107      3.367      0.028         0.063     0.657\n",
      "==============================================================================\n",
      "Omnibus:                        1.565   Durbin-Watson:                   2.109\n",
      "Prob(Omnibus):                  0.457   Jarque-Bera (JB):                1.116\n",
      "Skew:                          -0.496   Prob(JB):                        0.572\n",
      "Kurtosis:                       1.963   Cond. No.                     1.85e+04\n",
      "==============================================================================\n",
      "\n",
      "Warnings:\n",
      "[1] Standard Errors assume that the covariance matrix of the errors is correctly specified.\n",
      "[2] The condition number is large, 1.85e+04. This might indicate that there are\n",
      "strong multicollinearity or other numerical problems.\n"
     ]
    },
    {
     "name": "stderr",
     "output_type": "stream",
     "text": [
      "/Users/lei/anaconda/lib/python3.5/site-packages/scipy/stats/stats.py:1327: UserWarning: kurtosistest only valid for n>=20 ... continuing anyway, n=13\n",
      "  \"anyway, n=%i\" % int(n))\n"
     ]
    }
   ],
   "source": [
    "results = model.fit()\n",
    "print(results.summary())"
   ]
  },
  {
   "cell_type": "code",
   "execution_count": 57,
   "metadata": {
    "collapsed": false
   },
   "outputs": [
    {
     "name": "stdout",
     "output_type": "stream",
     "text": [
      "       FTP  UEMP      LIC   NMAN    GOV      WE\n",
      "0   260.35  11.0   178.15  538.1  133.9  117.18\n",
      "1   269.80   7.0   156.41  547.6  137.6  134.02\n",
      "2   272.04   5.2   198.02  562.8  143.6  141.68\n",
      "3   272.96   4.3   222.10  591.0  150.3  147.98\n",
      "4   272.51   3.5   301.92  626.1  164.3  159.85\n",
      "5   261.34   3.2   391.22  659.8  179.5  157.19\n",
      "6   268.89   4.1   665.56  686.2  187.5  155.29\n",
      "7   295.99   3.9  1131.21  699.6  195.4  131.75\n",
      "8   319.87   3.6   837.60  729.9  210.3  178.74\n",
      "9   341.43   7.1   794.90  757.8  223.8  178.30\n",
      "10  356.59   8.4   817.74  755.3  227.7  209.54\n",
      "11  376.69   7.7   583.17  787.0  230.9  240.05\n",
      "12  390.19   6.3   709.59  819.8  230.2  258.05\n"
     ]
    }
   ],
   "source": [
    "attribute_x = data_set[:, [0, 1, 3, 5, 6, 8]]\n",
    "df_attribute_x = pd.DataFrame(attribute_x, columns = ['FTP', 'UEMP', 'LIC', 'NMAN', 'GOV', 'WE'])\n",
    "print(df_attribute_x)"
   ]
  },
  {
   "cell_type": "code",
   "execution_count": 58,
   "metadata": {
    "collapsed": false
   },
   "outputs": [
    {
     "name": "stdout",
     "output_type": "stream",
     "text": [
      "                            OLS Regression Results                            \n",
      "==============================================================================\n",
      "Dep. Variable:                    HOM   R-squared:                       0.998\n",
      "Model:                            OLS   Adj. R-squared:                  0.996\n",
      "Method:                 Least Squares   F-statistic:                     559.0\n",
      "Date:                Tue, 28 Feb 2017   Prob (F-statistic):           5.09e-09\n",
      "Time:                        14:58:27   Log-Likelihood:                -22.378\n",
      "No. Observations:                  13   AIC:                             56.76\n",
      "Df Residuals:                       7   BIC:                             60.15\n",
      "Df Model:                           6                                         \n",
      "Covariance Type:            nonrobust                                         \n",
      "==============================================================================\n",
      "                 coef    std err          t      P>|t|      [95.0% Conf. Int.]\n",
      "------------------------------------------------------------------------------\n",
      "FTP           -0.0319      0.047     -0.681      0.518        -0.143     0.079\n",
      "UEMP           1.2406      0.362      3.429      0.011         0.385     2.096\n",
      "LIC            0.0337      0.004      7.579      0.000         0.023     0.044\n",
      "NMAN          -0.1447      0.026     -5.569      0.001        -0.206    -0.083\n",
      "GOV            0.2410      0.097      2.475      0.043         0.011     0.471\n",
      "WE             0.3665      0.043      8.579      0.000         0.265     0.468\n",
      "==============================================================================\n",
      "Omnibus:                        1.938   Durbin-Watson:                   3.133\n",
      "Prob(Omnibus):                  0.380   Jarque-Bera (JB):                0.316\n",
      "Skew:                           0.241   Prob(JB):                        0.854\n",
      "Kurtosis:                       3.593   Cond. No.                         703.\n",
      "==============================================================================\n",
      "\n",
      "Warnings:\n",
      "[1] Standard Errors assume that the covariance matrix of the errors is correctly specified.\n"
     ]
    },
    {
     "name": "stderr",
     "output_type": "stream",
     "text": [
      "/Users/lei/anaconda/lib/python3.5/site-packages/scipy/stats/stats.py:1327: UserWarning: kurtosistest only valid for n>=20 ... continuing anyway, n=13\n",
      "  \"anyway, n=%i\" % int(n))\n"
     ]
    }
   ],
   "source": [
    "model = sm.OLS(df_attribute_y, df_attribute_x)\n",
    "results = model.fit()\n",
    "print(results.summary())"
   ]
  },
  {
   "cell_type": "code",
   "execution_count": 59,
   "metadata": {
    "collapsed": false
   },
   "outputs": [
    {
     "name": "stdout",
     "output_type": "stream",
     "text": [
      "       FTP  UEMP      LIC    GOV      WE\n",
      "0   260.35  11.0   178.15  133.9  117.18\n",
      "1   269.80   7.0   156.41  137.6  134.02\n",
      "2   272.04   5.2   198.02  143.6  141.68\n",
      "3   272.96   4.3   222.10  150.3  147.98\n",
      "4   272.51   3.5   301.92  164.3  159.85\n",
      "5   261.34   3.2   391.22  179.5  157.19\n",
      "6   268.89   4.1   665.56  187.5  155.29\n",
      "7   295.99   3.9  1131.21  195.4  131.75\n",
      "8   319.87   3.6   837.60  210.3  178.74\n",
      "9   341.43   7.1   794.90  223.8  178.30\n",
      "10  356.59   8.4   817.74  227.7  209.54\n",
      "11  376.69   7.7   583.17  230.9  240.05\n",
      "12  390.19   6.3   709.59  230.2  258.05\n",
      "                            OLS Regression Results                            \n",
      "==============================================================================\n",
      "Dep. Variable:                    HOM   R-squared:                       0.989\n",
      "Model:                            OLS   Adj. R-squared:                  0.982\n",
      "Method:                 Least Squares   F-statistic:                     139.9\n",
      "Date:                Tue, 28 Feb 2017   Prob (F-statistic):           1.46e-07\n",
      "Time:                        14:59:25   Log-Likelihood:                -33.377\n",
      "No. Observations:                  13   AIC:                             76.75\n",
      "Df Residuals:                       8   BIC:                             79.58\n",
      "Df Model:                           5                                         \n",
      "Covariance Type:            nonrobust                                         \n",
      "==============================================================================\n",
      "                 coef    std err          t      P>|t|      [95.0% Conf. Int.]\n",
      "------------------------------------------------------------------------------\n",
      "FTP           -0.2222      0.070     -3.167      0.013        -0.384    -0.060\n",
      "UEMP           2.3927      0.647      3.698      0.006         0.901     3.885\n",
      "LIC            0.0495      0.007      6.612      0.000         0.032     0.067\n",
      "GOV           -0.2072      0.119     -1.735      0.121        -0.483     0.068\n",
      "WE             0.5355      0.066      8.173      0.000         0.384     0.687\n",
      "==============================================================================\n",
      "Omnibus:                        5.400   Durbin-Watson:                   1.689\n",
      "Prob(Omnibus):                  0.067   Jarque-Bera (JB):                2.181\n",
      "Skew:                           0.762   Prob(JB):                        0.336\n",
      "Kurtosis:                       4.305   Cond. No.                         421.\n",
      "==============================================================================\n",
      "\n",
      "Warnings:\n",
      "[1] Standard Errors assume that the covariance matrix of the errors is correctly specified.\n"
     ]
    },
    {
     "name": "stderr",
     "output_type": "stream",
     "text": [
      "/Users/lei/anaconda/lib/python3.5/site-packages/scipy/stats/stats.py:1327: UserWarning: kurtosistest only valid for n>=20 ... continuing anyway, n=13\n",
      "  \"anyway, n=%i\" % int(n))\n"
     ]
    }
   ],
   "source": [
    "attribute_x = data_set[:, [0, 1, 3, 6, 8]]\n",
    "df_attribute_x = pd.DataFrame(attribute_x, columns = ['FTP', 'UEMP', 'LIC', 'GOV', 'WE'])\n",
    "print(df_attribute_x)\n",
    "model = sm.OLS(df_attribute_y, df_attribute_x)\n",
    "results = model.fit()\n",
    "print(results.summary())"
   ]
  },
  {
   "cell_type": "code",
   "execution_count": 60,
   "metadata": {
    "collapsed": false
   },
   "outputs": [
    {
     "name": "stdout",
     "output_type": "stream",
     "text": [
      "       FTP  UEMP      LIC      WE\n",
      "0   260.35  11.0   178.15  117.18\n",
      "1   269.80   7.0   156.41  134.02\n",
      "2   272.04   5.2   198.02  141.68\n",
      "3   272.96   4.3   222.10  147.98\n",
      "4   272.51   3.5   301.92  159.85\n",
      "5   261.34   3.2   391.22  157.19\n",
      "6   268.89   4.1   665.56  155.29\n",
      "7   295.99   3.9  1131.21  131.75\n",
      "8   319.87   3.6   837.60  178.74\n",
      "9   341.43   7.1   794.90  178.30\n",
      "10  356.59   8.4   817.74  209.54\n",
      "11  376.69   7.7   583.17  240.05\n",
      "12  390.19   6.3   709.59  258.05\n",
      "                            OLS Regression Results                            \n",
      "==============================================================================\n",
      "Dep. Variable:                    HOM   R-squared:                       0.984\n",
      "Model:                            OLS   Adj. R-squared:                  0.978\n",
      "Method:                 Least Squares   F-statistic:                     142.3\n",
      "Date:                Tue, 28 Feb 2017   Prob (F-statistic):           3.98e-08\n",
      "Time:                        14:59:52   Log-Likelihood:                -35.452\n",
      "No. Observations:                  13   AIC:                             78.90\n",
      "Df Residuals:                       9   BIC:                             81.16\n",
      "Df Model:                           4                                         \n",
      "Covariance Type:            nonrobust                                         \n",
      "==============================================================================\n",
      "                 coef    std err          t      P>|t|      [95.0% Conf. Int.]\n",
      "------------------------------------------------------------------------------\n",
      "FTP           -0.3147      0.050     -6.245      0.000        -0.429    -0.201\n",
      "UEMP           2.6654      0.694      3.840      0.004         1.095     4.236\n",
      "LIC            0.0396      0.005      7.415      0.000         0.027     0.052\n",
      "WE             0.4975      0.068      7.284      0.000         0.343     0.652\n",
      "==============================================================================\n",
      "Omnibus:                        2.163   Durbin-Watson:                   1.305\n",
      "Prob(Omnibus):                  0.339   Jarque-Bera (JB):                1.058\n",
      "Skew:                          -0.698   Prob(JB):                        0.589\n",
      "Kurtosis:                       2.922   Cond. No.                         394.\n",
      "==============================================================================\n",
      "\n",
      "Warnings:\n",
      "[1] Standard Errors assume that the covariance matrix of the errors is correctly specified.\n"
     ]
    },
    {
     "name": "stderr",
     "output_type": "stream",
     "text": [
      "/Users/lei/anaconda/lib/python3.5/site-packages/scipy/stats/stats.py:1327: UserWarning: kurtosistest only valid for n>=20 ... continuing anyway, n=13\n",
      "  \"anyway, n=%i\" % int(n))\n"
     ]
    }
   ],
   "source": [
    "attribute_x = data_set[:, [0, 1, 3, 8]]\n",
    "df_attribute_x = pd.DataFrame(attribute_x, columns = ['FTP', 'UEMP', 'LIC', 'WE'])\n",
    "print(df_attribute_x)\n",
    "model = sm.OLS(df_attribute_y, df_attribute_x)\n",
    "results = model.fit()\n",
    "print(results.summary())"
   ]
  },
  {
   "cell_type": "code",
   "execution_count": null,
   "metadata": {
    "collapsed": true
   },
   "outputs": [],
   "source": []
  }
 ],
 "metadata": {
  "anaconda-cloud": {},
  "kernelspec": {
   "display_name": "Python [conda root]",
   "language": "python",
   "name": "conda-root-py"
  },
  "language_info": {
   "codemirror_mode": {
    "name": "ipython",
    "version": 3
   },
   "file_extension": ".py",
   "mimetype": "text/x-python",
   "name": "python",
   "nbconvert_exporter": "python",
   "pygments_lexer": "ipython3",
   "version": "3.5.2"
  }
 },
 "nbformat": 4,
 "nbformat_minor": 1
}
